{
 "cells": [
  {
   "cell_type": "markdown",
   "metadata": {},
   "source": [
    "# PBI4 Tutorial"
   ]
  },
  {
   "cell_type": "markdown",
   "metadata": {},
   "source": [
    "After installation, it is sufficient to load the pbi4 library:"
   ]
  },
  {
   "cell_type": "code",
   "execution_count": 1,
   "metadata": {},
   "outputs": [
    {
     "name": "stdout",
     "output_type": "stream",
     "text": [
      "Intel MKL WARNING: Support of Intel(R) Streaming SIMD Extensions 4.2 (Intel(R) SSE4.2) enabled only processors has been deprecated. Intel oneAPI Math Kernel Library 2025.0 will require Intel(R) Advanced Vector Extensions (Intel(R) AVX) instructions.\n",
      "Intel MKL WARNING: Support of Intel(R) Streaming SIMD Extensions 4.2 (Intel(R) SSE4.2) enabled only processors has been deprecated. Intel oneAPI Math Kernel Library 2025.0 will require Intel(R) Advanced Vector Extensions (Intel(R) AVX) instructions.\n"
     ]
    }
   ],
   "source": [
    "import pbi4 as pb"
   ]
  },
  {
   "cell_type": "markdown",
   "metadata": {},
   "source": [
    "Next, we use the class IO to load all relevan parameters from the config file. "
   ]
  },
  {
   "cell_type": "code",
   "execution_count": 2,
   "metadata": {},
   "outputs": [],
   "source": [
    "io=pb.IO(config_file = 'config.json',verbose = True)"
   ]
  },
  {
   "cell_type": "markdown",
   "metadata": {},
   "source": [
    "Let's have a look at them"
   ]
  },
  {
   "cell_type": "code",
   "execution_count": 3,
   "metadata": {},
   "outputs": [
    {
     "name": "stdout",
     "output_type": "stream",
     "text": [
      "Input Parameters:\n",
      "cat  :  sancho\n",
      "box  :  1000\n",
      "grid  :  128\n",
      "interpolation  :  4\n",
      "interlacing  :  True\n",
      "kbin  :  1\n",
      "kcenter  :  1\n",
      "iopen  :  True\n",
      "om  :  0.3\n",
      "ol  :  0.7\n",
      "z  :  0.5\n",
      "multipoles  :  True\n",
      "los  :  [0. 0. 1.]\n",
      "cross  :  False\n",
      "cfile  :  ../testdata/cfile.npz\n",
      "npool  :  4\n",
      "savedensity  :  False\n",
      "config_file  :  config.json\n",
      "ifile  :  ../testdata/fiducial_HOD_fid_NFW_sample0_1Gpc_z0.50_RSD3_run0.npz\n",
      "ps_outfile  :  ../testdata/ps.dat\n",
      "bs_outfile  :  ../testdata/bs.dat\n",
      "dk  :  0.006283185307179587\n",
      "nbins_ps  :  64\n",
      "nbins_bisp  :  42\n",
      "kf  :  0.006283185307179587\n",
      "kN  :  0.40212385965949354\n",
      "Hz  :  130.86252328302402\n",
      "itot  :  7714\n",
      "kvec  :  [0.00628319 0.01256637 0.01884956 0.02513274 0.03141593 0.03769911\n",
      " 0.0439823  0.05026548 0.05654867 0.06283185 0.06911504 0.07539822\n",
      " 0.08168141 0.08796459 0.09424778 0.10053096 0.10681415 0.11309734\n",
      " 0.11938052 0.12566371 0.13194689 0.13823008 0.14451326 0.15079645\n",
      " 0.15707963 0.16336282 0.169646   0.17592919 0.18221237 0.18849556\n",
      " 0.19477874 0.20106193 0.20734512 0.2136283  0.21991149 0.22619467\n",
      " 0.23247786 0.23876104 0.24504423 0.25132741 0.2576106  0.26389378\n",
      " 0.27017697 0.27646015 0.28274334 0.28902652 0.29530971 0.30159289\n",
      " 0.30787608 0.31415927 0.32044245 0.32672564 0.33300882 0.33929201\n",
      " 0.34557519 0.35185838 0.35814156 0.36442475 0.37070793 0.37699112\n",
      " 0.3832743  0.38955749 0.39584067 0.40212386]\n"
     ]
    }
   ],
   "source": [
    "params=io.read_params()"
   ]
  },
  {
   "cell_type": "markdown",
   "metadata": {},
   "source": [
    "Suppose you want to modify a parameter on the fly. Let's suppose we want a finer binning. \n",
    "Current width of the bin is kbin = 2, we want to change to kbin = 1 and change the center of the bin to kcenter = 1.\n",
    "\n",
    "Here's how to do this:"
   ]
  },
  {
   "cell_type": "code",
   "execution_count": 4,
   "metadata": {},
   "outputs": [
    {
     "name": "stdout",
     "output_type": "stream",
     "text": [
      "Input Parameters:\n",
      "cat  :  sancho\n",
      "box  :  1000\n",
      "grid  :  128\n",
      "interpolation  :  4\n",
      "interlacing  :  True\n",
      "kbin  :  1\n",
      "kcenter  :  1\n",
      "iopen  :  True\n",
      "om  :  0.3\n",
      "ol  :  0.7\n",
      "z  :  0.5\n",
      "multipoles  :  True\n",
      "los  :  [0. 0. 1.]\n",
      "cross  :  False\n",
      "cfile  :  ../testdata/cfile.npz\n",
      "npool  :  4\n",
      "savedensity  :  False\n",
      "config_file  :  config.json\n",
      "ifile  :  ../testdata/fiducial_HOD_fid_NFW_sample0_1Gpc_z0.50_RSD3_run0.npz\n",
      "ps_outfile  :  ../testdata/ps.dat\n",
      "bs_outfile  :  ../testdata/bs.dat\n",
      "dk  :  0.006283185307179587\n",
      "nbins_ps  :  64\n",
      "nbins_bisp  :  42\n",
      "kf  :  0.006283185307179587\n",
      "kN  :  0.40212385965949354\n",
      "Hz  :  130.86252328302402\n",
      "itot  :  7714\n",
      "kvec  :  [0.00628319 0.01256637 0.01884956 0.02513274 0.03141593 0.03769911\n",
      " 0.0439823  0.05026548 0.05654867 0.06283185 0.06911504 0.07539822\n",
      " 0.08168141 0.08796459 0.09424778 0.10053096 0.10681415 0.11309734\n",
      " 0.11938052 0.12566371 0.13194689 0.13823008 0.14451326 0.15079645\n",
      " 0.15707963 0.16336282 0.169646   0.17592919 0.18221237 0.18849556\n",
      " 0.19477874 0.20106193 0.20734512 0.2136283  0.21991149 0.22619467\n",
      " 0.23247786 0.23876104 0.24504423 0.25132741 0.2576106  0.26389378\n",
      " 0.27017697 0.27646015 0.28274334 0.28902652 0.29530971 0.30159289\n",
      " 0.30787608 0.31415927 0.32044245 0.32672564 0.33300882 0.33929201\n",
      " 0.34557519 0.35185838 0.35814156 0.36442475 0.37070793 0.37699112\n",
      " 0.3832743  0.38955749 0.39584067 0.40212386]\n"
     ]
    }
   ],
   "source": [
    "import json\n",
    "\n",
    "\n",
    "params['kbin'] = 1\n",
    "params['kcenter'] = 1\n",
    "with open(params['config_file'],'w') as config_file:\n",
    "    json.dump(params,config_file,indent = 4, cls=pb.NumpyArrayEncoder)\n",
    "io=pb.IO(config_file = 'config.json',verbose = True)\n",
    "params = io.read_params()\n"
   ]
  },
  {
   "cell_type": "markdown",
   "metadata": {},
   "source": [
    "And that's done! Now let's load the catalog from the Sancho suite."
   ]
  },
  {
   "cell_type": "code",
   "execution_count": 5,
   "metadata": {},
   "outputs": [
    {
     "name": "stdout",
     "output_type": "stream",
     "text": [
      "Reading Sancho galaxies.\n",
      "\n",
      "FILE: ../testdata/fiducial_HOD_fid_NFW_sample0_1Gpc_z0.50_RSD3_run0.npz\n",
      "\n",
      "Found 356467 galaxies.\n",
      "Number density: 3.56e-04 (h/Mpc)^3\n",
      "Done.\n"
     ]
    }
   ],
   "source": [
    "pos = io.read_catalogues()"
   ]
  },
  {
   "cell_type": "markdown",
   "metadata": {},
   "source": [
    "We compute densities by interpolating galaxies on a grid:"
   ]
  },
  {
   "cell_type": "code",
   "execution_count": 6,
   "metadata": {},
   "outputs": [],
   "source": [
    "density = pb.DENSITIES(params)"
   ]
  },
  {
   "cell_type": "code",
   "execution_count": 7,
   "metadata": {},
   "outputs": [
    {
     "name": "stdout",
     "output_type": "stream",
     "text": [
      "Assigning 356467 particles on the grid...\n",
      "Done.\n"
     ]
    }
   ],
   "source": [
    "npart,dcl = density.assign_grid(pos)"
   ]
  },
  {
   "cell_type": "code",
   "execution_count": 8,
   "metadata": {},
   "outputs": [
    {
     "name": "stdout",
     "output_type": "stream",
     "text": [
      "Computing final density.\n",
      "Done.\n",
      "\n"
     ]
    }
   ],
   "source": [
    "dcl = density.compute_density(npart, dcl)"
   ]
  },
  {
   "cell_type": "markdown",
   "metadata": {},
   "source": [
    "We also compute density multipoles using the prescription of [Scoccimarro (2015)](https://arxiv.org/pdf/1506.02729.pdf)"
   ]
  },
  {
   "cell_type": "code",
   "execution_count": 9,
   "metadata": {},
   "outputs": [
    {
     "name": "stdout",
     "output_type": "stream",
     "text": [
      "Computing density multipoles...\n",
      "\n",
      "Done with delta_2.\n",
      "Done with delta_4.\n"
     ]
    }
   ],
   "source": [
    "dcl2,dcl4 = density.compute_density_multipoles(dcl)"
   ]
  },
  {
   "cell_type": "markdown",
   "metadata": {},
   "source": [
    "Now we are ready to perform the measurements. First the power spectrum:"
   ]
  },
  {
   "cell_type": "code",
   "execution_count": 10,
   "metadata": {},
   "outputs": [],
   "source": [
    "ms = pb.MEASUREMENTS(params)"
   ]
  },
  {
   "cell_type": "code",
   "execution_count": 11,
   "metadata": {},
   "outputs": [
    {
     "name": "stdout",
     "output_type": "stream",
     "text": [
      "kmin = 0.006283 h/Mpc\n",
      "kmax = 0.402124 h/Mpc\n",
      "Number of bins = 64\n",
      "Computing redshift space power spectrum\n",
      "Done.\n",
      "\n"
     ]
    }
   ],
   "source": [
    "ps = ms.powerspectrum(npart,dcl,dcl2,dcl4)"
   ]
  },
  {
   "cell_type": "markdown",
   "metadata": {},
   "source": [
    "And now the bispectrum. First we compute triangles counts:"
   ]
  },
  {
   "cell_type": "code",
   "execution_count": 12,
   "metadata": {},
   "outputs": [
    {
     "name": "stdout",
     "output_type": "stream",
     "text": [
      " ---FORTRAN SUBROUTINE---\n",
      " FFT grid =          128\n",
      " Allocate all arrays\n",
      " Find modes of amplitude |k|\n",
      " Save coordinates\n",
      " Make FFT plans\n",
      " FFT Threads:            4\n",
      " Calculate k maps\n",
      " Compute counts\n",
      "  0%  1%  2%  3%  4%  5%  6%  7%  8%  9% 10% 11% 12% 13% 14% 15% 16% 17% 18% 19% 20% 21% 22% 23% 24% 25% 26% 27% 28% 29% 30% 31% 32% 33% 34% 35% 36% 37% 38% 39% 40% 41% 42% 43% 44% 45% 46% 47% 48% 49% 50% 51% 52% 53% 54% 55% 56% 57% 58% 59% 60% 61% 62% 63% 64% 65% 66% 67% 68% 69% 70% 71% 72% 73% 74% 75% 76% 77% 78% 79% 80% 81% 82% 83% 84% 85% 86% 87% 88% 89% 90% 91% 92% 93% 94% 95% 96% 97% 98% 99%| Done\n"
     ]
    }
   ],
   "source": [
    "counts = ms.triangle_counts()"
   ]
  },
  {
   "cell_type": "code",
   "execution_count": 13,
   "metadata": {},
   "outputs": [
    {
     "name": "stdout",
     "output_type": "stream",
     "text": [
      "Computing redshift space bispectrum\n",
      " ---FORTRAN SUBROUTINE---\n",
      "\n",
      " internal grid         128\n",
      " number of bins          42\n",
      " Allocate all arrays\n",
      " Find modes of amplitude |k|\n",
      " Save coordinates\n",
      " Make FFT plans\n",
      " FFT Threads:            4\n",
      " Calculate k maps\n",
      " Compute maps for delta_2\n",
      " Calculate k maps\n",
      " Compute maps for delta_4\n",
      " Calculate k maps\n",
      " Last sum\n",
      "Progress: |  0%  1%  2%  3%  4%  5%  6%  7%  8%  9% 10% 11% 12% 13% 14% 15% 16% 17% 18% 19% 20% 21% 22% 23% 24% 25% 26% 27% 28% 29% 30% 31% 32% 33% 34% 35% 36% 37% 38% 39% 40% 41% 42% 43% 44% 45% 46% 47% 48% 49% 50% 51% 52% 53% 54% 55% 56% 57% 58% 59% 60% 61% 62% 63% 64% 65% 66% 67% 68% 69% 70% 71% 72% 73% 74% 75% 76% 77% 78% 79% 80% 81% 82% 83% 84% 85% 86% 87% 88% 89% 90% 91% 92% 93% 94% 95% 96% 97% 98% 99%|Done.\n",
      "\n"
     ]
    }
   ],
   "source": [
    "bs = ms.bispectrum(npart,counts,dcl,dcl2,dcl4)"
   ]
  },
  {
   "cell_type": "code",
   "execution_count": null,
   "metadata": {},
   "outputs": [],
   "source": []
  }
 ],
 "metadata": {
  "kernelspec": {
   "display_name": "Python 3",
   "language": "python",
   "name": "python3"
  },
  "language_info": {
   "codemirror_mode": {
    "name": "ipython",
    "version": 3
   },
   "file_extension": ".py",
   "mimetype": "text/x-python",
   "name": "python",
   "nbconvert_exporter": "python",
   "pygments_lexer": "ipython3",
   "version": "3.10.10"
  },
  "orig_nbformat": 4
 },
 "nbformat": 4,
 "nbformat_minor": 2
}
